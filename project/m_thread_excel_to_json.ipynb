{
 "cells": [
  {
   "cell_type": "code",
   "execution_count": 449,
   "metadata": {},
   "outputs": [],
   "source": [
    "\n",
    "import numpy as np\n",
    "import pandas as pd \n",
    "import decimal\n"
   ]
  },
  {
   "cell_type": "code",
   "execution_count": 450,
   "metadata": {},
   "outputs": [],
   "source": [
    "def read_excel(path,sheet_name):\n",
    "    df = pd.read_excel(io = path,sheet_name =sheet_name,  header = 0,index_col=None,)\n",
    "\n",
    "   \n",
    "    # name_column = df.columns.tolist()\n",
    "    # for s in range(len(name_column)):\n",
    "    # # del space start\n",
    "    #      df[name_column[s]] = df[name_column[s]].astype(str).str.lstrip()\n",
    "    # # del space end\n",
    "    #      df[name_column[s]] = df[name_column[s]].astype(str).str.rstrip()\n",
    "    return df\n",
    "\n",
    " \n",
    "def to_json(df, nameFile):\n",
    "    df.to_json(path_or_buf ='../json/m/'+nameFile+'.json' , orient=\"records\") \n",
    "    \n",
    "\n",
    "\n",
    "def get_patch_from(file):\n",
    "    return '../excel/'+file+'.xlsx'\n",
    "\n",
    "def change_types(df,columnType):\n",
    "    for k, v in columnType.items(): \n",
    "        df[k] = df[k].astype(v)\n",
    "\n",
    "\n",
    "def to_list_float(df,nameCol)   :\n",
    "    for index, row in df.iterrows():\n",
    "        value = df[nameCol].values[index]\n",
    "        if(str(value).lower() != 'nan'):\n",
    "            df[nameCol].values[index] = [float(x) for x in df[nameCol].values[index].split(',')]\n",
    "\n",
    "def to_list_String(df,nameCol)   :\n",
    "    for index, row in df.iterrows():\n",
    "        value = df[nameCol].values[index]\n",
    "        if(str(value).lower() != 'nan'):\n",
    "            df[nameCol].values[index] = [str(x) for x in df[nameCol].values[index].split(',')]\n",
    "            \n",
    "            \n",
    "def normalize_fraction(d):\n",
    "    normalized = d.normalize()\n",
    "    sign, digits, exponent = normalized.as_tuple()\n",
    "    if exponent > 0:\n",
    "        return decimal.Decimal((sign, digits + (0,) * exponent, 0))\n",
    "    else:\n",
    "        return normalized\n",
    "         "
   ]
  },
  {
   "cell_type": "markdown",
   "metadata": {},
   "source": [
    "# m_thread"
   ]
  },
  {
   "cell_type": "code",
   "execution_count": 451,
   "metadata": {},
   "outputs": [],
   "source": [
    "file_excel = 'm_thread'\n",
    "\n",
    "sheet_names = [\n",
    "    'm_diam',\n",
    "    'm_profile',\n",
    "    'm_tolerance',\n",
    " \n",
    "               ]\n",
    "\n",
    "# ******************************\n",
    "patchFrom = get_patch_from(file_excel)\n",
    "\n",
    "\n",
    "df_base = read_excel(patchFrom, sheet_names[0])\n",
    "\n",
    "\n",
    "\n"
   ]
  },
  {
   "cell_type": "code",
   "execution_count": 452,
   "metadata": {},
   "outputs": [],
   "source": [
    "# column\n",
    "diam = 'diam'\n",
    "diamFormat = 'diamFormat'\n",
    "coarsePitch = 'coarsePitch'\n",
    "finePitch = 'finePitch'\n",
    "extraFinePitch = 'extraFinePitch'\n",
    "rangeMain = 'rangeMain'\n",
    "rangeSub = 'rangeSub'"
   ]
  },
  {
   "cell_type": "markdown",
   "metadata": {},
   "source": [
    "# create df from df base"
   ]
  },
  {
   "cell_type": "code",
   "execution_count": 453,
   "metadata": {},
   "outputs": [],
   "source": [
    "df_update = df_base[diam].unique()\n",
    "df_update = pd.DataFrame( df_update, columns=[diam])"
   ]
  },
  {
   "cell_type": "code",
   "execution_count": 454,
   "metadata": {},
   "outputs": [],
   "source": [
    "diam = 0\n",
    "pitch = 0\n",
    "for i, row in df_update.iterrows():\n",
    "    diam = df_update.diam[i]\n",
    "    s = str(diam)\n",
    "    \n",
    "    \n",
    "    df_update.at[i, diamFormat]='M '+s.rstrip('0').rstrip('.') if '.' in s else s\n",
    "    \n",
    "    find_row =df_base.query(\"diam == @diam\")\n",
    "    if (find_row.count().sum())>0:\n",
    "        range_main =  find_row.iloc[0]['range_main']\n",
    "        range_sub =  find_row.iloc[0]['range_sub']\n",
    "        \n",
    "        df_update.at[i, rangeMain]=range_main\n",
    "        df_update.at[i, rangeSub]=range_sub\n",
    "    \n",
    "    \n",
    "    # coarse pitch\n",
    "    find_row = df_base.query(\"diam == @diam and type_pitch == 1\")\n",
    "    if (find_row.count().sum())>0:\n",
    "        pitch =  find_row.iloc[0]['pitch']\n",
    "        df_update.at[i, coarsePitch]=pitch\n",
    "   \n",
    "    # fine pitch\n",
    "    find_row = df_base.query(\"diam == @diam and type_pitch == 2\")\n",
    "    if (find_row.count().sum())>0:\n",
    "        pitch =  find_row['pitch'].tolist()\n",
    "        df_update.at[i, finePitch]=str(pitch).replace('[','').replace(']','')  \n",
    "    \n",
    "    # extra fine pitch\n",
    "    find_row = df_base.query(\"diam == @diam and type_pitch == 3\")\n",
    "    if (find_row.count().sum())>0:\n",
    "        pitch =  find_row['pitch'].tolist()\n",
    "        df_update.at[i, extraFinePitch]=str(pitch).replace('[','').replace(']','')  \n",
    "\n",
    "\n"
   ]
  },
  {
   "cell_type": "markdown",
   "metadata": {},
   "source": [
    "# записываем диаметры"
   ]
  },
  {
   "cell_type": "code",
   "execution_count": 455,
   "metadata": {},
   "outputs": [],
   "source": [
    "to_list_float(df_update,finePitch)\n",
    "to_list_float(df_update,extraFinePitch)\n",
    "to_json(df_update,'m_diams')\n",
    "    "
   ]
  },
  {
   "cell_type": "code",
   "execution_count": 456,
   "metadata": {},
   "outputs": [],
   "source": [
    "coarsePitch = 'coarsePitch'"
   ]
  },
  {
   "cell_type": "code",
   "execution_count": 457,
   "metadata": {},
   "outputs": [],
   "source": [
    "# df_pitch = pd.DataFrame(columns=[diamPitch])\n",
    "diamFormat = 0\n",
    "for i, row in df_update.iterrows():\n",
    "    df_pitch = pd.DataFrame()\n",
    "    diamFormat = df_update.diamFormat[i]\n",
    "    coarse = df_update.coarsePitch[i]\n",
    "    if not  np.isnan(coarse):\n",
    "        df_pitch.at[i, coarsePitch]=diamFormat +' x ' + str(coarse)\n",
    "        to_json(df_pitch, diamFormat.replace(' ','-'))\n",
    "    \n",
    "        "
   ]
  },
  {
   "cell_type": "code",
   "execution_count": null,
   "metadata": {},
   "outputs": [],
   "source": []
  },
  {
   "cell_type": "code",
   "execution_count": null,
   "metadata": {},
   "outputs": [],
   "source": [
    "\n",
    "  "
   ]
  }
 ],
 "metadata": {
  "interpreter": {
   "hash": "19f2151269bdb3d2edc3ef33c800258bf52998b015cc4b67ea7565174f3e1992"
  },
  "kernelspec": {
   "display_name": "Python 3.9.12 ('base')",
   "language": "python",
   "name": "python3"
  },
  "language_info": {
   "codemirror_mode": {
    "name": "ipython",
    "version": 3
   },
   "file_extension": ".py",
   "mimetype": "text/x-python",
   "name": "python",
   "nbconvert_exporter": "python",
   "pygments_lexer": "ipython3",
   "version": "3.9.12"
  },
  "orig_nbformat": 4
 },
 "nbformat": 4,
 "nbformat_minor": 2
}
