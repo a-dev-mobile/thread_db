{
 "cells": [
  {
   "cell_type": "code",
   "execution_count": 536,
   "metadata": {},
   "outputs": [],
   "source": [
    "\n",
    "import numpy as np\n",
    "import pandas as pd \n",
    "import decimal\n"
   ]
  },
  {
   "cell_type": "code",
   "execution_count": 537,
   "metadata": {},
   "outputs": [],
   "source": [
    "def read_excel(path,sheet_name):\n",
    "    df = pd.read_excel(io = path,sheet_name =sheet_name,  header = 0,index_col=None,)\n",
    "\n",
    "   \n",
    "    # name_column = df.columns.tolist()\n",
    "    # for s in range(len(name_column)):\n",
    "    # # del space start\n",
    "    #      df[name_column[s]] = df[name_column[s]].astype(str).str.lstrip()\n",
    "    # # del space end\n",
    "    #      df[name_column[s]] = df[name_column[s]].astype(str).str.rstrip()\n",
    "    return df\n",
    "\n",
    " \n",
    "def to_json(df, nameFile):\n",
    "    df.to_json(path_or_buf ='../json/m/'+nameFile+'.json' , orient=\"records\") \n",
    "    \n",
    "def get_patch_json(file):\n",
    "    return '../json/m/'+file+'.json' \n",
    "\n",
    "def get_patch_from(file):\n",
    "    return '../excel/'+file+'.xlsx'\n",
    "\n",
    "def change_types(df,columnType):\n",
    "    for k, v in columnType.items(): \n",
    "        df[k] = df[k].astype(v)\n",
    "\n",
    "\n",
    "def to_list_float(df,nameCol)   :\n",
    "    for index, row in df.iterrows():\n",
    "        value = df[nameCol].values[index]\n",
    "        if(str(value).lower() != 'nan'):\n",
    "            df[nameCol].values[index] = [float(x) for x in df[nameCol].values[index].split(',')]\n",
    "\n",
    "def to_list_String(df,nameCol)   :\n",
    "    for index, row in df.iterrows():\n",
    "        value = df[nameCol].values[index]\n",
    "        if(str(value).lower() != 'nan'):\n",
    "            df[nameCol].values[index] = [str(x) for x in df[nameCol].values[index].split(',')]\n",
    "            \n",
    "            \n",
    "def normalize_fraction(d):\n",
    "    normalized = d.normalize()\n",
    "    sign, digits, exponent = normalized.as_tuple()\n",
    "    if exponent > 0:\n",
    "        return decimal.Decimal((sign, digits + (0,) * exponent, 0))\n",
    "    else:\n",
    "        return normalized\n",
    "\n",
    "def toStringWithoutZero(s):\n",
    "    return s.rstrip('0').rstrip('.') if '.' in s else s        "
   ]
  },
  {
   "cell_type": "markdown",
   "metadata": {},
   "source": [
    "# m_thread"
   ]
  },
  {
   "cell_type": "code",
   "execution_count": 538,
   "metadata": {},
   "outputs": [],
   "source": [
    "file_excel = 'm_thread'\n",
    "\n",
    "sheet_names = [\n",
    "    'm_diam',\n",
    "    'm_profile',\n",
    "    'm_tolerance',\n",
    " \n",
    "               ]\n",
    "\n",
    "# ******************************\n",
    "patchFrom = get_patch_from(file_excel)\n",
    "\n",
    "\n",
    "df_base = read_excel(patchFrom, sheet_names[0])\n",
    "\n",
    "\n",
    "\n"
   ]
  },
  {
   "cell_type": "code",
   "execution_count": 539,
   "metadata": {},
   "outputs": [],
   "source": [
    "# column\n",
    "diam = 'diam'\n",
    "diamFormat = 'diamFormat'\n",
    "coarsePitch = 'coarsePitch'\n",
    "finePitch = 'finePitch'\n",
    "extraFinePitch = 'extraFinePitch'\n",
    "rangeMain = 'rangeMain'\n",
    "rangeSub = 'rangeSub'"
   ]
  },
  {
   "cell_type": "markdown",
   "metadata": {},
   "source": [
    "# create df from df base"
   ]
  },
  {
   "cell_type": "code",
   "execution_count": 540,
   "metadata": {},
   "outputs": [],
   "source": [
    "df_update = df_base[diam].unique()\n",
    "df_update = pd.DataFrame( df_update, columns=[diam])"
   ]
  },
  {
   "cell_type": "code",
   "execution_count": 541,
   "metadata": {},
   "outputs": [],
   "source": [
    "diam = 0\n",
    "pitch = 0\n",
    "for i, row in df_update.iterrows():\n",
    "    diam = df_update.diam[i]\n",
    "   \n",
    "    \n",
    "    \n",
    "    df_update.at[i, diamFormat]='M '+ toStringWithoutZero(str(diam))\n",
    "    \n",
    "    find_row =df_base.query(\"diam == @diam\")\n",
    "    if (find_row.count().sum())>0:\n",
    "        range_main =  find_row.iloc[0]['range_main']\n",
    "        range_sub =  find_row.iloc[0]['range_sub']\n",
    "        \n",
    "        df_update.at[i, rangeMain]=range_main\n",
    "        df_update.at[i, rangeSub]=range_sub\n",
    "    \n",
    "    \n",
    "    # coarse pitch\n",
    "    find_row = df_base.query(\"diam == @diam and type_pitch == 1\")\n",
    "    if (find_row.count().sum())>0:\n",
    "        pitch =  find_row.iloc[0]['pitch']\n",
    "        df_update.at[i, coarsePitch]=pitch\n",
    "   \n",
    "    # fine pitch\n",
    "    find_row = df_base.query(\"diam == @diam and type_pitch == 2\")\n",
    "    if (find_row.count().sum())>0:\n",
    "        pitch =  find_row['pitch'].tolist()\n",
    "        df_update.at[i, finePitch]=str(pitch).replace('[','').replace(']','')  \n",
    "    \n",
    "    # extra fine pitch\n",
    "    find_row = df_base.query(\"diam == @diam and type_pitch == 3\")\n",
    "    if (find_row.count().sum())>0:\n",
    "        pitch =  find_row['pitch'].tolist()\n",
    "        df_update.at[i, extraFinePitch]=str(pitch).replace('[','').replace(']','')  \n",
    "\n",
    "\n"
   ]
  },
  {
   "cell_type": "markdown",
   "metadata": {},
   "source": [
    "# записываем диаметры"
   ]
  },
  {
   "cell_type": "code",
   "execution_count": 542,
   "metadata": {},
   "outputs": [],
   "source": [
    "to_list_float(df_update,finePitch)\n",
    "to_list_float(df_update,extraFinePitch)\n",
    "to_json(df_update,'m_diams')\n",
    "    "
   ]
  },
  {
   "cell_type": "code",
   "execution_count": 543,
   "metadata": {},
   "outputs": [],
   "source": [
    "coarsePitch = 'coarsePitch'"
   ]
  },
  {
   "cell_type": "code",
   "execution_count": 544,
   "metadata": {},
   "outputs": [],
   "source": [
    "# df_pitch = pd.DataFrame(columns=[diamPitch])\n",
    "diamFormat = 0\n",
    "for i, row in df_update.iterrows():\n",
    "    df_pitch = pd.DataFrame()\n",
    "   \n",
    "    \n",
    "    diamFormat = df_update.diamFormat[i]\n",
    "    coarse = df_update.coarsePitch[i]\n",
    "    fine = df_update.finePitch[i]\n",
    "    extra = df_update.extraFinePitch[i]\n",
    "   \n",
    "   \n",
    "    if not np.isnan(coarse):\n",
    "        df_pitch.at[i, coarsePitch]=diamFormat +' x ' + str(coarse)\n",
    "   \n",
    "   \n",
    "    #  отсеиваю все с nan\n",
    "    if str(fine)!='nan':\n",
    "\n",
    "        list = []\n",
    "        for item in fine:\n",
    "            s = str(item).replace('[','').replace(']','').replace(' ','')\n",
    "            list.append(diamFormat+ ' x ' +  toStringWithoutZero(s))\n",
    "         \n",
    "        \n",
    "        df_pitch.at[i, finePitch]=str(list)\n",
    "        \n",
    "    if str(extra)!='nan':\n",
    "\n",
    "        list = []\n",
    "        for item in extra:\n",
    "\n",
    "            s = str(item).replace('[','').replace(']','').replace(' ','')\n",
    "            list.append(diamFormat+ ' x ' +  toStringWithoutZero(s))\n",
    "         \n",
    "        \n",
    "        df_pitch.at[i, extraFinePitch]=str(list)        \n",
    "    \n",
    "    \n",
    "    # df_pitch[finePitch]= df_pitch[finePitch].astype('object')\n",
    "    # to_list_float(df_pitch,finePitch)\n",
    "    nameFile = diamFormat.replace(' ','-')\n",
    "    to_json(df_pitch, nameFile)\n",
    "    \n",
    "    # Read in the file\n",
    "    with open(get_patch_json(nameFile), 'r') as file :\n",
    "        filedata = file.read()\n",
    "\n",
    "# Replace the target string\n",
    "        filedata = filedata.replace('\"[', '[').replace(']\"', ']').replace(\"'\", '\"')\n",
    "\n",
    "# Write the file out again\n",
    "    with open(get_patch_json(nameFile), 'w') as file:\n",
    "        file.write(filedata)\n",
    "        \n",
    "        \n",
    "        \n",
    "        \n",
    "    \n",
    "        "
   ]
  }
 ],
 "metadata": {
  "interpreter": {
   "hash": "31f2aee4e71d21fbe5cf8b01ff0e069b9275f58929596ceb00d14d90e3e16cd6"
  },
  "kernelspec": {
   "display_name": "Python 3.8.9 64-bit",
   "language": "python",
   "name": "python3"
  },
  "language_info": {
   "codemirror_mode": {
    "name": "ipython",
    "version": 3
   },
   "file_extension": ".py",
   "mimetype": "text/x-python",
   "name": "python",
   "nbconvert_exporter": "python",
   "pygments_lexer": "ipython3",
   "version": "3.8.9"
  },
  "orig_nbformat": 4
 },
 "nbformat": 4,
 "nbformat_minor": 2
}
