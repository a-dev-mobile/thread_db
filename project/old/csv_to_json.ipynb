{
 "cells": [
  {
   "cell_type": "code",
   "execution_count": 189,
   "metadata": {},
   "outputs": [],
   "source": [
    "import numpy as np\n",
    "import pandas as pd\n",
    "import json\n",
    "import math\n"
   ]
  },
  {
   "cell_type": "code",
   "execution_count": 190,
   "metadata": {},
   "outputs": [],
   "source": [
    "def read_csv(path):\n",
    "    df = pd.read_csv(path, sep=',', index_col=False, dtype='unicode',)\n",
    "    # df = df.astype(object).replace(np.nan, '')\n",
    "    return df\n",
    "\n",
    "def to_json(path):\n",
    "    df.to_json(path_or_buf =path , orient=\"records\")\n",
    " \n",
    "def to_list_float(df,nameCol)   :\n",
    "    for index, row in df.iterrows():\n",
    "        value = df[nameCol].values[index]\n",
    "        if(str(value).lower() != 'nan'):\n",
    "            df[nameCol].values[index] = [float(x) for x in df[nameCol].values[index].split(',')]\n",
    "            \n",
    "def to_list_str(df,nameCol)   :\n",
    "    for index, row in df.iterrows():\n",
    "        value = df[nameCol].values[index]\n",
    "        if(str(value).lower() != 'nan'):\n",
    "            df[nameCol].values[index] = [str(x) for x in df[nameCol].values[index].split(',')]   \n",
    "            \n",
    "def to_list_int(df,nameCol)   :\n",
    "    for index, row in df.iterrows():\n",
    "        value = df[nameCol].values[index]\n",
    "        if(str(value).lower() != 'nan'):\n",
    "            df[nameCol].values[index] = [int(x) for x in df[nameCol].values[index].split(',')]   \n",
    "\n",
    "def get_patch_to(file):\n",
    "    return '../json/'+file+'.json'\n",
    "\n",
    "def get_patch_from(file):\n",
    "    return '../csv/'+file+'.csv'\n",
    "\n",
    "def change_types(df,columnType):\n",
    "    for k, v in columnType.items(): \n",
    "        df[k] = df[k].astype(v)\n",
    "\n",
    "         "
   ]
  },
  {
   "cell_type": "markdown",
   "metadata": {},
   "source": [
    "# m Thread - gost_1_8724_2002_diam_pitch.csv"
   ]
  },
  {
   "cell_type": "code",
   "execution_count": 191,
   "metadata": {},
   "outputs": [],
   "source": [
    "\n",
    "file = 'm Thread - gost_1_8724_2002_diam_pitch'\n",
    "# ******************************\n",
    "# id,range_1,range_2,range_3,coarse_pitch,pitchs\n",
    "columnType = {\n",
    "    'id':'int',\n",
    "    'range_1':'float',\n",
    "    'range_2':'float',\n",
    "    'range_3':'float',\n",
    "    'coarse_pitch':'float',\n",
    "        }\n",
    "patchFrom = get_patch_from(file)\n",
    "pathTo = get_patch_to(file)\n",
    "\n",
    "\n",
    "df = read_csv(patchFrom)\n",
    "\n",
    "change_types(df,columnType)\n",
    "  \n",
    "  \n",
    "# ******************************\n",
    "    #  to list float\n",
    "nameCol = 'pitchs'\n",
    "\n",
    "to_list_float(df,'pitchs')\n",
    "\n",
    "to_json(pathTo)\n"
   ]
  },
  {
   "cell_type": "markdown",
   "metadata": {},
   "source": [
    "# m Thread - gost_2_16967_1981_diam_pitch.csv"
   ]
  },
  {
   "cell_type": "code",
   "execution_count": 192,
   "metadata": {},
   "outputs": [],
   "source": [
    "\n",
    "file = 'm Thread - gost_2_16967_1981_diam_pitch'\n",
    "# ******************************\n",
    "# id,range_1,range_2,pitchs\n",
    "columnType = {\n",
    "    'id':'int',\n",
    "    'range_1':'float',\n",
    "    'range_2':'float',\n",
    "\n",
    "\n",
    "        }\n",
    "\n",
    "patchFrom = get_patch_from(file)\n",
    "pathTo = get_patch_to(file)\n",
    "\n",
    "\n",
    "df = read_csv(patchFrom)\n",
    "\n",
    "change_types(df,columnType)\n",
    "  \n",
    "  \n",
    "# ******************************\n",
    "    #  to list float\n",
    "nameCol = 'pitchs'\n",
    "\n",
    "to_list_float(df,'pitchs')\n",
    "\n",
    "to_json(pathTo)"
   ]
  },
  {
   "cell_type": "markdown",
   "metadata": {},
   "source": [
    "# m Thread - gost_3_9150_2002_profile"
   ]
  },
  {
   "cell_type": "code",
   "execution_count": 193,
   "metadata": {},
   "outputs": [],
   "source": [
    "\n",
    "file = 'm Thread - gost_3_9150_2002_profile'\n",
    "# ******************************\n",
    "# id,pitch,h,h_5_8,h_3_8,h_4,h_8\n",
    "columnType = {\n",
    "    'id':'int',\n",
    "    'pitch':'float',\n",
    "    'h':'float',\n",
    "    'h_5_8':'float',\n",
    "    'h_3_8':'float',\n",
    "    'h_4':'float',\n",
    "    'h_4':'float',\n",
    "    'h_8':'float',\n",
    "\n",
    "        }\n",
    "\n",
    "patchFrom = get_patch_from(file)\n",
    "pathTo = get_patch_to(file)\n",
    "\n",
    "\n",
    "df = read_csv(patchFrom)\n",
    "\n",
    "change_types(df,columnType)\n",
    "  \n",
    "\n",
    "\n",
    "to_json(pathTo)"
   ]
  },
  {
   "cell_type": "markdown",
   "metadata": {},
   "source": [
    "# m Thread - gost_4_24705_2004_dimension"
   ]
  },
  {
   "cell_type": "code",
   "execution_count": 194,
   "metadata": {},
   "outputs": [],
   "source": [
    "\n",
    "file = 'm Thread - gost_4_24705_2004_dimension'\n",
    "# ******************************\n",
    "# id,diam,pitch,pitch_diam_d2,minor_diam_d1,minor_diam_d3\n",
    "columnType = {\n",
    "    'id':'int',\n",
    "    'diam':'float',\n",
    "    'pitch':'float',\n",
    "    'pitch_diam_d2':'float',\n",
    "    'minor_diam_d1':'float',\n",
    "    'minor_diam_d3':'float',\n",
    "        }\n",
    "\n",
    "patchFrom = get_patch_from(file)\n",
    "pathTo = get_patch_to(file)\n",
    "\n",
    "\n",
    "df = read_csv(patchFrom)\n",
    "\n",
    "change_types(df,columnType)\n",
    "  \n",
    "\n",
    "\n",
    "to_json(pathTo)\n"
   ]
  },
  {
   "cell_type": "markdown",
   "metadata": {},
   "source": [
    "# m Thread - gost_5_24706_1981_dimension"
   ]
  },
  {
   "cell_type": "code",
   "execution_count": 195,
   "metadata": {},
   "outputs": [],
   "source": [
    "\n",
    "file = 'm Thread - gost_5_24706_1981_dimension'\n",
    "# ******************************\n",
    "# id,diam,pitch,pitch_diam_d2,minor_diam_d1,minor_diam_d3\n",
    "columnType = {\n",
    "    'id':'int',\n",
    "    'diam':'float',\n",
    "    'pitch':'float',\n",
    "    'pitch_diam_d2':'float',\n",
    "    'minor_diam_d1':'float',\n",
    "    'minor_diam_d3':'float',\n",
    "        }\n",
    "\n",
    "patchFrom = get_patch_from(file)\n",
    "pathTo = get_patch_to(file)\n",
    "\n",
    "\n",
    "df = read_csv(patchFrom)\n",
    "\n",
    "change_types(df,columnType)\n",
    "  \n",
    "\n",
    "to_json(pathTo)\n",
    "\n"
   ]
  },
  {
   "cell_type": "markdown",
   "metadata": {},
   "source": [
    "# m Thread - gost_6_16903_2004_accuracy_male"
   ]
  },
  {
   "cell_type": "code",
   "execution_count": 196,
   "metadata": {},
   "outputs": [],
   "source": [
    "\n",
    "file = 'm Thread - gost_6_16903_2004_accuracy_male'\n",
    "# ******************************\n",
    "#id,diam,accuracy\n",
    "columnType = {\n",
    "    'id':'int',\n",
    "    'diam':'str',\n",
    "\n",
    "        }\n",
    "patchFrom = get_patch_from(file)\n",
    "pathTo = get_patch_to(file)\n",
    "\n",
    "\n",
    "df = read_csv(patchFrom)\n",
    "\n",
    "change_types(df,columnType)\n",
    "  \n",
    "\n",
    "to_list_int(df,'accuracy')\n",
    "\n",
    "to_json(pathTo)\n",
    "\n"
   ]
  },
  {
   "cell_type": "markdown",
   "metadata": {},
   "source": [
    "# m Thread - gost_7_16903_2004_accuracy_female"
   ]
  },
  {
   "cell_type": "code",
   "execution_count": 197,
   "metadata": {},
   "outputs": [],
   "source": [
    "\n",
    "file = 'm Thread - gost_7_16903_2004_accuracy_female'\n",
    "# ******************************\n",
    "#id,diam,accuracy\n",
    "columnType = {\n",
    "    'id':'int',\n",
    "    'diam':'str',\n",
    "\n",
    "        }\n",
    "patchFrom = get_patch_from(file)\n",
    "pathTo = get_patch_to(file)\n",
    "\n",
    "\n",
    "df = read_csv(patchFrom)\n",
    "\n",
    "change_types(df,columnType)\n",
    "  \n",
    "\n",
    "to_list_int(df,'accuracy')\n",
    "\n",
    "to_json(pathTo)\n",
    "\n"
   ]
  },
  {
   "cell_type": "markdown",
   "metadata": {},
   "source": [
    "# m Thread - gost_8_16903_2004_deviation_female"
   ]
  },
  {
   "cell_type": "code",
   "execution_count": 198,
   "metadata": {},
   "outputs": [],
   "source": [
    "\n",
    "file = 'm Thread - gost_8_16903_2004_deviation_female'\n",
    "# ******************************\n",
    "#id,diam,deviation\n",
    "columnType = {\n",
    "    'id':'int',\n",
    "    'diam':'str',\n",
    "\n",
    "        }\n",
    "patchFrom = get_patch_from(file)\n",
    "pathTo = get_patch_to(file)\n",
    "\n",
    "\n",
    "df = read_csv(patchFrom)\n",
    "\n",
    "change_types(df,columnType)\n",
    "  \n",
    "\n",
    "to_list_str(df,'deviation')\n",
    "\n",
    "to_json(pathTo)\n",
    "\n"
   ]
  },
  {
   "cell_type": "markdown",
   "metadata": {},
   "source": [
    "# m Thread - gost_9_16903_2004_deviation_male"
   ]
  },
  {
   "cell_type": "code",
   "execution_count": 199,
   "metadata": {},
   "outputs": [],
   "source": [
    "\n",
    "file = 'm Thread - gost_9_16903_2004_deviation_male'\n",
    "\n",
    "# ******************************\n",
    "#id,diam,deviation\n",
    "columnType = {\n",
    "    'id':'int',\n",
    "    'diam':'str',\n",
    "\n",
    "        }\n",
    "patchFrom = get_patch_from(file)\n",
    "pathTo = get_patch_to(file)\n",
    "\n",
    "\n",
    "df = read_csv(patchFrom)\n",
    "\n",
    "change_types(df,columnType)\n",
    "  \n",
    "\n",
    "to_list_str(df,'deviation')\n",
    "\n",
    "to_json(pathTo)\n",
    "\n"
   ]
  },
  {
   "cell_type": "markdown",
   "metadata": {},
   "source": [
    "# m Thread - gost_10_16903_2004_tolerance_male_major_diam"
   ]
  },
  {
   "cell_type": "code",
   "execution_count": 200,
   "metadata": {},
   "outputs": [],
   "source": [
    "\n",
    "file = 'm Thread - gost_10_16903_2004_tolerance_male_major_diam'\n",
    "\n",
    "\n",
    "\n",
    "# ******************************\n",
    "#id,pitch,accuracy_4,accuracy_6,accuracy_8\n",
    "columnType = {\n",
    "    'id':'int',\n",
    "    'pitch':'float',\n",
    "    'accuracy_4':'float',\n",
    "    'accuracy_6':'float',\n",
    "    'accuracy_8':'float',\n",
    "\n",
    "        }\n",
    "patchFrom = get_patch_from(file)\n",
    "pathTo = get_patch_to(file)\n",
    "\n",
    "\n",
    "df = read_csv(patchFrom)\n",
    "\n",
    "change_types(df,columnType)\n",
    "  \n",
    "\n",
    "\n",
    "to_json(pathTo)\n",
    "\n"
   ]
  },
  {
   "cell_type": "markdown",
   "metadata": {},
   "source": [
    "# m Thread - gost_11_16903_2004_tolerance_female_minor_diam"
   ]
  },
  {
   "cell_type": "code",
   "execution_count": 201,
   "metadata": {},
   "outputs": [],
   "source": [
    "\n",
    "file = 'm Thread - gost_11_16903_2004_tolerance_female_minor_diam'\n",
    "\n",
    "# ******************************\n",
    "#id,pitch,accuracy_4,accuracy_5,accuracy_6,accuracy_7,accuracy_8\n",
    "columnType = {\n",
    "    'id':'int',\n",
    "    'pitch':'float',\n",
    "    'accuracy_4':'float',\n",
    "    'accuracy_5':'float',\n",
    "    'accuracy_6':'float',\n",
    "    'accuracy_7':'float',\n",
    "    'accuracy_8':'float',\n",
    "\n",
    "        }\n",
    "patchFrom = get_patch_from(file)\n",
    "pathTo = get_patch_to(file)\n",
    "\n",
    "\n",
    "df = read_csv(patchFrom)\n",
    "\n",
    "change_types(df,columnType)\n",
    "  \n",
    "\n",
    "\n",
    "to_json(pathTo)\n",
    "\n"
   ]
  },
  {
   "cell_type": "markdown",
   "metadata": {},
   "source": [
    "# m Thread - gost_12_16903_2004_tolerance_male_pitch_diam"
   ]
  },
  {
   "cell_type": "code",
   "execution_count": 202,
   "metadata": {},
   "outputs": [],
   "source": [
    "\n",
    "file = 'm Thread - gost_12_16903_2004_tolerance_male_pitch_diam'\n",
    "# ******************************\n",
    "#id,min,max,pitch,accuracy_3,accuracy_4,accuracy_5,accuracy_6,accuracy_7,accuracy_8,accuracy_9,accuracy_10\n",
    "columnType = {\n",
    "    'id':'int',\n",
    "    'min':'float',\n",
    "    'max':'float',\n",
    "    'pitch':'float',\n",
    "    'accuracy_3':'float',\n",
    "    'accuracy_4':'float',\n",
    "    'accuracy_5':'float',\n",
    "    'accuracy_6':'float',\n",
    "    'accuracy_7':'float',\n",
    "    'accuracy_8':'float',\n",
    "    'accuracy_9':'float',\n",
    "    'accuracy_10':'float',\n",
    "\n",
    "        }\n",
    "patchFrom = get_patch_from(file)\n",
    "pathTo = get_patch_to(file)\n",
    "\n",
    "\n",
    "df = read_csv(patchFrom)\n",
    "\n",
    "change_types(df,columnType)\n",
    "  \n",
    "\n",
    "\n",
    "to_json(pathTo)\n",
    "\n"
   ]
  },
  {
   "cell_type": "markdown",
   "metadata": {},
   "source": [
    "# m Thread - gost_13_16903_2004_tolerance_female_pitch_diam"
   ]
  },
  {
   "cell_type": "code",
   "execution_count": 204,
   "metadata": {},
   "outputs": [],
   "source": [
    "\n",
    "file = 'm Thread - gost_13_16903_2004_tolerance_female_pitch_diam'\n",
    "# ******************************\n",
    "#id,min,max,pitch,accuracy_4,accuracy_5,accuracy_6,accuracy_7,accuracy_8,accuracy_9\n",
    "columnType = {\n",
    "    'id':'int',\n",
    "    'min':'float',\n",
    "    'max':'float',\n",
    "    'pitch':'float',\n",
    "    'accuracy_4':'float',\n",
    "    'accuracy_5':'float',\n",
    "    'accuracy_6':'float',\n",
    "    'accuracy_7':'float',\n",
    "    'accuracy_8':'float',\n",
    "    'accuracy_9':'float',\n",
    "\n",
    "\n",
    "        }\n",
    "patchFrom = get_patch_from(file)\n",
    "pathTo = get_patch_to(file)\n",
    "\n",
    "\n",
    "df = read_csv(patchFrom)\n",
    "\n",
    "change_types(df,columnType)\n",
    "  \n",
    "\n",
    "\n",
    "to_json(pathTo)"
   ]
  }
 ],
 "metadata": {
  "interpreter": {
   "hash": "858487fbf8fb79ac1a28dd575800f00f3f83fd14f81cb97acd7cb0181ca6578f"
  },
  "kernelspec": {
   "display_name": "Python 3.9.7 ('base')",
   "language": "python",
   "name": "python3"
  },
  "language_info": {
   "codemirror_mode": {
    "name": "ipython",
    "version": 3
   },
   "file_extension": ".py",
   "mimetype": "text/x-python",
   "name": "python",
   "nbconvert_exporter": "python",
   "pygments_lexer": "ipython3",
   "version": "3.9.7"
  },
  "orig_nbformat": 4
 },
 "nbformat": 4,
 "nbformat_minor": 2
}
