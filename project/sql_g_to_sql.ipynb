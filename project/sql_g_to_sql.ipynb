{
 "cells": [
  {
   "cell_type": "code",
   "execution_count": 34,
   "metadata": {},
   "outputs": [],
   "source": [
    "from sqlite3 import connect\n",
    "import numpy as np\n",
    "import pandas as pd \n",
    "from sqlalchemy import create_engine\n",
    "\n"
   ]
  },
  {
   "cell_type": "code",
   "execution_count": 35,
   "metadata": {},
   "outputs": [],
   "source": [
    "\n",
    "# conn = connect(pathTo)\n",
    "# query ='SELECT pitch FROM m_thread_tolerance'\n",
    "# df_sql = pd.read_sql(query, conn)\n",
    "\n",
    "\n",
    "def get_df_from_sql(path,query_sql):\n",
    "    conn = connect(path)\n",
    "    return pd.read_sql(query_sql, conn)\n",
    "    \n",
    "\n",
    "\n",
    "\n",
    "\n",
    "def get_patch_to(file):\n",
    "    return '../db/'+file+'.db'\n",
    "\n",
    "def get_patch_from(file):\n",
    "    return '../db/'+file+'.db'\n",
    "\n",
    "\n",
    "\n",
    "         "
   ]
  },
  {
   "cell_type": "markdown",
   "metadata": {},
   "source": [
    "# G"
   ]
  },
  {
   "cell_type": "code",
   "execution_count": 36,
   "metadata": {},
   "outputs": [
    {
     "data": {
      "text/plain": [
       "_id                    int64\n",
       "designation_1         object\n",
       "designation_2         object\n",
       "thread_pitch         float64\n",
       "thread_per             int64\n",
       "class                 object\n",
       "ex_major_dia_max      object\n",
       "ex_major_dia_min      object\n",
       "ex_pitch_diam_max     object\n",
       "ex_pitch_diam_min     object\n",
       "ex_minor_dia_max      object\n",
       "in_minor_dia_min      object\n",
       "in_minor_dia_max      object\n",
       "in_pitch_diam_min     object\n",
       "in_pitch_diam_max     object\n",
       "in_major_dia_min      object\n",
       "in_tap_drill          object\n",
       "dtype: object"
      ]
     },
     "execution_count": 36,
     "metadata": {},
     "output_type": "execute_result"
    }
   ],
   "source": [
    "file = 'ThreadDB'\n",
    "\n",
    "# ******************************\n",
    "patchFrom = get_patch_from(file)\n",
    "\n",
    "\n",
    "df = get_df_from_sql(patchFrom,'SELECT * FROM G')\n",
    "df.dtypes\n",
    "# df.applymap(lambda x: str(x.replace(',','.')))\n",
    "\n"
   ]
  },
  {
   "cell_type": "code",
   "execution_count": 37,
   "metadata": {},
   "outputs": [
    {
     "data": {
      "text/plain": [
       "_id                    int64\n",
       "designation_1        float64\n",
       "designation_2         object\n",
       "thread_pitch         float64\n",
       "thread_per             int64\n",
       "class                 object\n",
       "ex_major_dia_max      object\n",
       "ex_major_dia_min      object\n",
       "ex_pitch_diam_max     object\n",
       "ex_pitch_diam_min     object\n",
       "ex_minor_dia_max      object\n",
       "in_minor_dia_min      object\n",
       "in_minor_dia_max      object\n",
       "in_pitch_diam_min     object\n",
       "in_pitch_diam_max     object\n",
       "in_major_dia_min      object\n",
       "in_tap_drill          object\n",
       "dtype: object"
      ]
     },
     "execution_count": 37,
     "metadata": {},
     "output_type": "execute_result"
    }
   ],
   "source": [
    "df[\"designation_1\"]=df[\"designation_1\"].str.replace('G','')\n",
    "df[\"designation_2\"]=df[\"designation_2\"].str.replace('G','')\n",
    "df[\"designation_1\"]=df[\"designation_1\"].astype(float)\n",
    "df[\"ex_major_dia_max\"]=df[\"ex_major_dia_max\"].str.replace(',','.')\n",
    "df[\"ex_major_dia_min\"]=df[\"ex_major_dia_min\"].str.replace(',','.')\n",
    "df[\"ex_pitch_diam_max\"]=df[\"ex_pitch_diam_max\"].str.replace(',','.')\n",
    "df[\"ex_pitch_diam_min\"]=df[\"ex_pitch_diam_min\"].str.replace(',','.')\n",
    "df[\"ex_minor_dia_max\"]=df[\"ex_minor_dia_max\"].str.replace(',','.')\n",
    "df[\"in_minor_dia_min\"]=df[\"in_minor_dia_min\"].str.replace(',','.')\n",
    "df[\"in_minor_dia_max\"]=df[\"in_minor_dia_max\"].str.replace(',','.')\n",
    "df[\"in_pitch_diam_min\"]=df[\"in_pitch_diam_min\"].str.replace(',','.')\n",
    "df[\"in_pitch_diam_max\"]=df[\"in_pitch_diam_max\"].str.replace(',','.')\n",
    "df[\"in_major_dia_min\"]=df[\"in_major_dia_min\"].str.replace(',','.')\n",
    "df[\"in_tap_drill\"]=df[\"in_tap_drill\"].str.replace(',','.')\n",
    "\n",
    "\n",
    "\n",
    "df.dtypes"
   ]
  },
  {
   "cell_type": "code",
   "execution_count": 38,
   "metadata": {},
   "outputs": [],
   "source": [
    "df_to_float = df.iloc[:, 6:]\n",
    "# df_to_float.applymap(lambda x: str(x.replace(',','.')))\n",
    "df_to_float = df_to_float.astype(float)\n",
    "\n",
    "df_to_float0 = df.iloc[:, :6]\n",
    "\n",
    "df_new = pd.concat([df_to_float0, df_to_float], axis=1)"
   ]
  },
  {
   "cell_type": "code",
   "execution_count": 39,
   "metadata": {},
   "outputs": [],
   "source": [
    "df_new = df_new.rename(columns={\"class\": \"class_name\"})"
   ]
  },
  {
   "cell_type": "code",
   "execution_count": null,
   "metadata": {},
   "outputs": [],
   "source": []
  },
  {
   "cell_type": "code",
   "execution_count": 40,
   "metadata": {},
   "outputs": [],
   "source": [
    "engine = create_engine('sqlite:///../db/thread.db', echo=False)\n",
    "df_new.to_sql('g', con=engine, if_exists='replace', index=False)"
   ]
  }
 ],
 "metadata": {
  "interpreter": {
   "hash": "8a8d7a0a404734d831b08a0a2937ee34723a8db0c7f6c117bad8093eb5d8036b"
  },
  "kernelspec": {
   "display_name": "Python 3.9.7 ('base')",
   "language": "python",
   "name": "python3"
  },
  "language_info": {
   "codemirror_mode": {
    "name": "ipython",
    "version": 3
   },
   "file_extension": ".py",
   "mimetype": "text/x-python",
   "name": "python",
   "nbconvert_exporter": "python",
   "pygments_lexer": "ipython3",
   "version": "3.9.7"
  },
  "orig_nbformat": 4
 },
 "nbformat": 4,
 "nbformat_minor": 2
}
