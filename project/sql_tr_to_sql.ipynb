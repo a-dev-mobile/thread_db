{
 "cells": [
  {
   "cell_type": "code",
   "execution_count": 1,
   "metadata": {},
   "outputs": [],
   "source": [
    "from sqlite3 import connect\n",
    "import numpy as np\n",
    "import pandas as pd \n",
    "from sqlalchemy import create_engine\n",
    "\n"
   ]
  },
  {
   "cell_type": "code",
   "execution_count": 2,
   "metadata": {},
   "outputs": [],
   "source": [
    "\n",
    "# conn = connect(pathTo)\n",
    "# query ='SELECT pitch FROM m_thread_tolerance'\n",
    "# df_sql = pd.read_sql(query, conn)\n",
    "\n",
    "\n",
    "def get_df_from_sql(path,query_sql):\n",
    "    conn = connect(path)\n",
    "    return pd.read_sql(query_sql, conn)\n",
    "    \n",
    "\n",
    "\n",
    "\n",
    "\n",
    "def get_patch_to(file):\n",
    "    return '../db/'+file+'.db'\n",
    "\n",
    "def get_patch_from(file):\n",
    "    return '../db/'+file+'.db'\n",
    "\n",
    "def getSplitValue(listNameColumns, indexSplit):\n",
    "    listSplitValue = []\n",
    "   \n",
    "    for nameColumn in listNameColumns:\n",
    "        listSplitValue.append(nameColumn.split('_')[indexSplit])\n",
    "    return listSplitValue\n",
    "\n",
    "         "
   ]
  },
  {
   "cell_type": "markdown",
   "metadata": {},
   "source": [
    "# tr"
   ]
  },
  {
   "cell_type": "code",
   "execution_count": 3,
   "metadata": {},
   "outputs": [],
   "source": [
    "file = 'ThreadDB___'\n",
    "\n",
    "# ******************************\n",
    "patchFrom = get_patch_from(file)\n",
    "\n",
    "\n",
    "df = get_df_from_sql(patchFrom,'SELECT * FROM Tr')\n"
   ]
  },
  {
   "cell_type": "code",
   "execution_count": 4,
   "metadata": {},
   "outputs": [],
   "source": [
    "df_rename_column_m = df.iloc[:,7:49]"
   ]
  },
  {
   "cell_type": "code",
   "execution_count": 5,
   "metadata": {},
   "outputs": [],
   "source": [
    "listNameColumns = list(df_rename_column_m.columns)\n",
    "\n",
    "esEiList = getSplitValue(listNameColumns,0)\n",
    "dList = getSplitValue(listNameColumns,1)\n",
    "toleranceList = getSplitValue(listNameColumns,2)\n",
    "# mList = getSplitValue(listNameColumns,3)\n",
    "\n",
    "\n",
    "newListNameColumns =[]\n",
    "\n",
    "for i in range(len(toleranceList)):\n",
    "    newListNameColumns.append(   dList[i] +\"_\"+  esEiList[i]+\"_\"+toleranceList[i]+\"_m\")\n",
    "\n",
    "\n",
    "df_rename_column_m.columns = newListNameColumns"
   ]
  },
  {
   "cell_type": "code",
   "execution_count": 6,
   "metadata": {},
   "outputs": [],
   "source": [
    "\n",
    "\n",
    "df_new =  df.iloc[:,:7]\n",
    "\n"
   ]
  },
  {
   "cell_type": "code",
   "execution_count": 7,
   "metadata": {},
   "outputs": [],
   "source": [
    "df_new = pd.concat([df_new, df_rename_column_m], axis=1)"
   ]
  },
  {
   "cell_type": "code",
   "execution_count": 8,
   "metadata": {},
   "outputs": [],
   "source": [
    "df_rename_column_f = df.iloc[:, 49:]\n",
    "\n",
    "listNameColumns = list(df_rename_column_f.columns)\n",
    "\n",
    "esEiList = getSplitValue(listNameColumns,0)\n",
    "dList = getSplitValue(listNameColumns,1)\n",
    "toleranceList = getSplitValue(listNameColumns,2)\n",
    "mList = getSplitValue(listNameColumns,3)\n",
    "\n",
    "\n",
    "newListNameColumns =[]\n",
    "\n",
    "for i in range(len(toleranceList)):\n",
    "    newListNameColumns.append(  ( dList[i] +\"_\"+  esEiList[i]+\"_\"+toleranceList[i]+\"_f\").casefold())\n",
    "\n",
    "\n",
    "df_rename_column_f.columns = newListNameColumns\n",
    "\n",
    "df_new = pd.concat([df_new, df_rename_column_f], axis=1)"
   ]
  },
  {
   "cell_type": "code",
   "execution_count": 9,
   "metadata": {},
   "outputs": [],
   "source": [
    "df_to_float1 =  df.iloc[:,:7]\n",
    "df_to_float2 = df_new.iloc[:, 7:]"
   ]
  },
  {
   "cell_type": "code",
   "execution_count": 10,
   "metadata": {},
   "outputs": [],
   "source": [
    "\n",
    "df_to_float2 = df_to_float2.astype(float)\n",
    "df_new_float = pd.concat([df_to_float1, df_to_float2], axis=1)"
   ]
  },
  {
   "cell_type": "code",
   "execution_count": 11,
   "metadata": {},
   "outputs": [
    {
     "data": {
      "text/plain": [
       "_id                   int64\n",
       "nominal_diameter      int64\n",
       "pitch               float64\n",
       "D4                  float64\n",
       "d2_D2               float64\n",
       "                     ...   \n",
       "d4_ei_9h_f          float64\n",
       "d2_es_9h_f          float64\n",
       "d2_ei_9h_f          float64\n",
       "d1_es_9h_f          float64\n",
       "d1_ei_9h_f          float64\n",
       "Length: 69, dtype: object"
      ]
     },
     "execution_count": 11,
     "metadata": {},
     "output_type": "execute_result"
    }
   ],
   "source": [
    "df_new_float.dtypes"
   ]
  },
  {
   "cell_type": "code",
   "execution_count": 12,
   "metadata": {},
   "outputs": [
    {
     "data": {
      "text/plain": [
       "222"
      ]
     },
     "execution_count": 12,
     "metadata": {},
     "output_type": "execute_result"
    }
   ],
   "source": [
    "engine = create_engine('sqlite:///../db/thread.db', echo=False)\n",
    "df_new_float.to_sql('tr', con=engine, if_exists='replace', index=False)"
   ]
  }
 ],
 "metadata": {
  "interpreter": {
   "hash": "19f2151269bdb3d2edc3ef33c800258bf52998b015cc4b67ea7565174f3e1992"
  },
  "kernelspec": {
   "display_name": "Python 3.9.12 ('base')",
   "language": "python",
   "name": "python3"
  },
  "language_info": {
   "codemirror_mode": {
    "name": "ipython",
    "version": 3
   },
   "file_extension": ".py",
   "mimetype": "text/x-python",
   "name": "python",
   "nbconvert_exporter": "python",
   "pygments_lexer": "ipython3",
   "version": "3.9.12"
  },
  "orig_nbformat": 4
 },
 "nbformat": 4,
 "nbformat_minor": 2
}
