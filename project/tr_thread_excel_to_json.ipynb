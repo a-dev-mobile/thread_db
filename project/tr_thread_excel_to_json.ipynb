{
 "cells": [
  {
   "cell_type": "code",
   "execution_count": 25,
   "metadata": {},
   "outputs": [],
   "source": [
    "\n",
    "import numpy as np\n",
    "import pandas as pd \n",
    "import decimal\n",
    "import json\n",
    "\n",
    "# pathFolder = '/Users/dmitriytrofimov/DEV/dmitryitrofimov.github.io/json/thread/m/'\n",
    "pathFolder = 'e:/DEV/FLUTTER/project/MY_GITHUB/dmitryitrofimov/json/thread/tr/'"
   ]
  },
  {
   "cell_type": "code",
   "execution_count": 26,
   "metadata": {},
   "outputs": [],
   "source": [
    "def read_excel(path,sheet_name):\n",
    "    df = pd.read_excel(io = path,sheet_name =sheet_name,  header = 0,index_col=None,)\n",
    "\n",
    "   \n",
    "    return df\n",
    "\n",
    " \n",
    "def to_json(df, nameFile):\n",
    "    df.to_json(path_or_buf =nameFile , orient=\"records\") \n",
    "\n",
    "def to_json_from_list (list, nameFile):\n",
    "    with open(nameFile+'.json', 'w') as f:\n",
    "        json.dump(list, f)\n",
    "    \n",
    "    \n",
    "\n",
    "def get_patch_from(file):\n",
    "    return '../excel/'+file+'.xlsx'\n",
    "\n",
    "def change_types(df,columnType):\n",
    "    for k, v in columnType.items(): \n",
    "        df[k] = df[k].astype(v)\n",
    "\n",
    "\n",
    "def to_list_float(df,nameCol)   :\n",
    "    for index, row in df.iterrows():\n",
    "        value = df[nameCol].values[index]\n",
    "        if(str(value).lower() != 'nan'):\n",
    "            df[nameCol].values[index] = [float(x) for x in df[nameCol].values[index].split(',')]\n",
    "\n",
    "def to_list_String(df,nameCol)   :\n",
    "    for index, row in df.iterrows():\n",
    "        value = df[nameCol].values[index]\n",
    "        if(str(value).lower() != 'nan'):\n",
    "            df[nameCol].values[index] = [str(x) for x in df[nameCol].values[index].split(',')]\n",
    "            \n",
    "            \n",
    "def normalize_fraction(d):\n",
    "    normalized = d.normalize()\n",
    "    sign, digits, exponent = normalized.as_tuple()\n",
    "    if exponent > 0:\n",
    "        return decimal.Decimal((sign, digits + (0,) * exponent, 0))\n",
    "    else:\n",
    "        return normalized\n",
    "\n",
    "def toStringWithoutZero(s):\n",
    "    return s.rstrip('0').rstrip('.') if '.' in s else s  \n",
    "      \n",
    "def change_column_order(df, col_name, index):\n",
    "    cols = df.columns.tolist()\n",
    "    cols.remove(col_name)\n",
    "    cols.insert(index, col_name)\n",
    "    return df[cols]\n",
    "\n",
    "\n",
    "def replace_from_file (patch, old_text, new_text):\n",
    "    # Read in the file\n",
    "    with open(patch, 'r') as file :\n",
    "        filedata = file.read()\n",
    "\n",
    "    # Replace the target string\n",
    "        filedata = filedata.replace(old_text, new_text)\n",
    "\n",
    "    # Write the file out again\n",
    "    with open(patch, 'w') as file:\n",
    "        file.write(filedata)"
   ]
  },
  {
   "cell_type": "code",
   "execution_count": 27,
   "metadata": {},
   "outputs": [],
   "source": [
    "file_excel = 'tr_thread'\n",
    "\n",
    "sheet_names = [\n",
    "    'tr_thread',\n",
    "               ]\n",
    "\n",
    "# ******************************\n",
    "patchFrom = get_patch_from(file_excel)\n",
    "\n",
    "\n",
    "a_df = read_excel(patchFrom, sheet_names[0])\n",
    "\n",
    "\n",
    "\n"
   ]
  },
  {
   "cell_type": "code",
   "execution_count": 28,
   "metadata": {},
   "outputs": [],
   "source": [
    "b_diam_df = a_df[[\n",
    "    \n",
    "    'nominal_diameter',\n",
    "    'pitch',                  \n",
    "\n",
    "                 \n",
    "                  ]]\n"
   ]
  },
  {
   "cell_type": "code",
   "execution_count": 29,
   "metadata": {},
   "outputs": [],
   "source": [
    "c_diam_df = b_diam_df.copy()\n",
    "\n",
    "for i, row in c_diam_df.iterrows():\n",
    "\n",
    "    nom = c_diam_df.nominal_diameter[i]\n",
    "    pitch = c_diam_df.pitch[i]\n",
    "\n",
    "    c_diam_df.at[i, 'desc_1'] = 'Tr ' + str(nom)+' x ' + toStringWithoutZero(str(pitch))\n",
    "\n",
    "\n",
    "del c_diam_df['nominal_diameter']\n",
    "del c_diam_df['pitch']\n",
    "\n",
    "\n",
    "\n",
    "\n",
    "\n"
   ]
  },
  {
   "cell_type": "code",
   "execution_count": 30,
   "metadata": {},
   "outputs": [],
   "source": [
    "\n",
    "path = pathFolder+'diam/diam.json'\n",
    "\n",
    "to_json_from_list(c_diam_df['desc_1'].tolist(),path)\n",
    "# replace_from_file(path,'desc_1','222')"
   ]
  }
 ],
 "metadata": {
  "interpreter": {
   "hash": "19f2151269bdb3d2edc3ef33c800258bf52998b015cc4b67ea7565174f3e1992"
  },
  "kernelspec": {
   "display_name": "Python 3.9.12 ('base')",
   "language": "python",
   "name": "python3"
  },
  "language_info": {
   "codemirror_mode": {
    "name": "ipython",
    "version": 3
   },
   "file_extension": ".py",
   "mimetype": "text/x-python",
   "name": "python",
   "nbconvert_exporter": "python",
   "pygments_lexer": "ipython3",
   "version": "3.9.12"
  },
  "orig_nbformat": 4
 },
 "nbformat": 4,
 "nbformat_minor": 2
}
