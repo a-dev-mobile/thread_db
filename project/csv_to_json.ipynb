{
 "cells": [
  {
   "cell_type": "code",
   "execution_count": 239,
   "metadata": {},
   "outputs": [],
   "source": [
    "import numpy as np\n",
    "import pandas as pd\n",
    "import json\n",
    "import math\n"
   ]
  },
  {
   "cell_type": "code",
   "execution_count": 240,
   "metadata": {},
   "outputs": [],
   "source": [
    "def read_csv(patch):\n",
    "    df = pd.read_csv(patch, sep=',', index_col=False, dtype='unicode',)\n",
    "    # df = df.astype(object).replace(np.nan, '')\n",
    "    return df"
   ]
  },
  {
   "cell_type": "markdown",
   "metadata": {},
   "source": [
    "# m Thread - 1_gost_8724_2002_diam_pitch.csv"
   ]
  },
  {
   "cell_type": "code",
   "execution_count": 241,
   "metadata": {},
   "outputs": [],
   "source": [
    "\n",
    "\n",
    "file = 'm Thread - gost_1_8724_2002_diam_pitch'\n",
    "patchFrom = '../csv/'+file+'.csv'\n",
    "df = read_csv(patchFrom)\n",
    "# ******************************\n",
    "pathTo = '../json/'+file+'.json'"
   ]
  },
  {
   "cell_type": "code",
   "execution_count": 242,
   "metadata": {},
   "outputs": [],
   "source": [
    "columnType = {\n",
    "    'id':'int',\n",
    "    'range_1':'float',\n",
    "    'range_2':'float',\n",
    "    'range_3':'float',\n",
    "    'coarse_pitch':'float',\n",
    "        }\n",
    "\n",
    "for k, v in columnType.items(): \n",
    "    df[k] = df[k].astype(v)\n",
    "  \n",
    "  \n",
    "    #  to list float\n",
    "nameCol = 'pitchs'\n",
    "\n",
    "for index, row in df.iterrows():\n",
    "    value = df[nameCol].values[index]\n",
    "    if(str(value).lower() != 'nan'):\n",
    "        df[nameCol].values[index] = [float(x) for x in df[nameCol].values[index].split(',')]\n"
   ]
  },
  {
   "cell_type": "code",
   "execution_count": 244,
   "metadata": {},
   "outputs": [],
   "source": []
  },
  {
   "cell_type": "code",
   "execution_count": 238,
   "metadata": {},
   "outputs": [],
   "source": [
    "res  = df.to_json(path_or_buf =pathTo , orient=\"records\")\n",
    "\n"
   ]
  }
 ],
 "metadata": {
  "interpreter": {
   "hash": "858487fbf8fb79ac1a28dd575800f00f3f83fd14f81cb97acd7cb0181ca6578f"
  },
  "kernelspec": {
   "display_name": "Python 3.9.7 ('base')",
   "language": "python",
   "name": "python3"
  },
  "language_info": {
   "codemirror_mode": {
    "name": "ipython",
    "version": 3
   },
   "file_extension": ".py",
   "mimetype": "text/x-python",
   "name": "python",
   "nbconvert_exporter": "python",
   "pygments_lexer": "ipython3",
   "version": "3.9.7"
  },
  "orig_nbformat": 4
 },
 "nbformat": 4,
 "nbformat_minor": 2
}
