{
 "cells": [
  {
   "cell_type": "code",
   "execution_count": 50,
   "metadata": {},
   "outputs": [],
   "source": [
    "\n",
    "import numpy as np\n",
    "import pandas as pd \n",
    "\n",
    "\n"
   ]
  },
  {
   "cell_type": "code",
   "execution_count": 51,
   "metadata": {},
   "outputs": [],
   "source": [
    "def read_excel(path,sheet_name):\n",
    "    df = pd.read_excel(io = path,sheet_name =sheet_name,  header = 0,index_col=None,)\n",
    "    # df = df.astype(object).replace(np.nan, '')\n",
    "    return df\n",
    "\n",
    " \n",
    "\n",
    "def get_patch_from(file):\n",
    "    return '../excel/'+file+'.xlsx'\n",
    "\n",
    "def change_types(df,columnType):\n",
    "    for k, v in columnType.items(): \n",
    "        df[k] = df[k].astype(v)\n",
    "\n",
    "         "
   ]
  },
  {
   "cell_type": "markdown",
   "metadata": {},
   "source": [
    "# open excel"
   ]
  },
  {
   "cell_type": "code",
   "execution_count": 52,
   "metadata": {},
   "outputs": [],
   "source": [
    "file_excel = 'm_thread_data'\n",
    "sheet_names = [\n",
    "    'm_diam_pitch_range_dimension',\n",
    "    'm_profile',\n",
    "    'm_tolerance',\n",
    "               ]\n",
    "sheet_name = sheet_names[2]\n",
    "\n",
    "\n",
    "\n",
    "# ******************************\n",
    "patchFrom = get_patch_from(file_excel)\n",
    "\n",
    "\n",
    "df = read_excel(patchFrom, sheet_name)\n"
   ]
  },
  {
   "cell_type": "markdown",
   "metadata": {},
   "source": [
    "# rename name table"
   ]
  },
  {
   "cell_type": "code",
   "execution_count": 53,
   "metadata": {},
   "outputs": [],
   "source": [
    "df_rename_column = df.iloc[:,4:]"
   ]
  },
  {
   "cell_type": "code",
   "execution_count": 54,
   "metadata": {},
   "outputs": [],
   "source": [
    "def getSplitValue(listNameColumns, indexSplit):\n",
    "    listSplitValue = []\n",
    "   \n",
    "    for nameColumn in listNameColumns:\n",
    "        listSplitValue.append(nameColumn.split('_')[indexSplit])\n",
    "    return listSplitValue"
   ]
  },
  {
   "cell_type": "code",
   "execution_count": 55,
   "metadata": {},
   "outputs": [],
   "source": [
    "listNameColumns = list(df_rename_column.columns)\n",
    "\n",
    "toleranceList = getSplitValue(listNameColumns,0)\n",
    "dList = getSplitValue(listNameColumns,1)\n",
    "esEiList = getSplitValue(listNameColumns,2)\n",
    "mList = getSplitValue(listNameColumns,3)\n",
    "\n",
    "\n",
    "newListNameColumns =[]\n",
    "\n",
    "for i in range(len(toleranceList)):\n",
    "    newListNameColumns.append(   dList[i] +\"_\"+  esEiList[i]+\"_\"+toleranceList[i]+\"_\"+mList[i])\n",
    "\n",
    "\n",
    "\n",
    "df_rename_column.columns = newListNameColumns"
   ]
  },
  {
   "cell_type": "markdown",
   "metadata": {},
   "source": [
    "# объединение"
   ]
  },
  {
   "cell_type": "code",
   "execution_count": 56,
   "metadata": {},
   "outputs": [],
   "source": [
    "\n",
    "\n",
    "df_new =  df.iloc[:,:4]\n",
    "\n",
    "df_new = pd.concat([df_new, df_rename_column], axis=1)\n"
   ]
  },
  {
   "cell_type": "code",
   "execution_count": 59,
   "metadata": {},
   "outputs": [],
   "source": [
    "df_new.to_excel(\"../excel/output.xlsx\")  \n",
    "# conn = connect(pathTo)\n",
    "# query ='SELECT pitch FROM m_thread_tolerance'\n",
    "# df_sql = pd.read_sql(query, conn)"
   ]
  }
 ],
 "metadata": {
  "interpreter": {
   "hash": "8a8d7a0a404734d831b08a0a2937ee34723a8db0c7f6c117bad8093eb5d8036b"
  },
  "kernelspec": {
   "display_name": "Python 3.9.7 ('base')",
   "language": "python",
   "name": "python3"
  },
  "language_info": {
   "codemirror_mode": {
    "name": "ipython",
    "version": 3
   },
   "file_extension": ".py",
   "mimetype": "text/x-python",
   "name": "python",
   "nbconvert_exporter": "python",
   "pygments_lexer": "ipython3",
   "version": "3.9.7"
  },
  "orig_nbformat": 4
 },
 "nbformat": 4,
 "nbformat_minor": 2
}
