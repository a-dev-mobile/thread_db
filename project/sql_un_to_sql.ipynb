{
 "cells": [
  {
   "cell_type": "code",
   "execution_count": 1,
   "metadata": {},
   "outputs": [],
   "source": [
    "from sqlite3 import connect\n",
    "import numpy as np\n",
    "import pandas as pd \n",
    "from sqlalchemy import create_engine\n",
    "\n"
   ]
  },
  {
   "cell_type": "code",
   "execution_count": 2,
   "metadata": {},
   "outputs": [],
   "source": [
    "\n",
    "# conn = connect(pathTo)\n",
    "# query ='SELECT pitch FROM m_thread_tolerance'\n",
    "# df_sql = pd.read_sql(query, conn)\n",
    "\n",
    "\n",
    "def get_df_from_sql(path,query_sql):\n",
    "    conn = connect(path)\n",
    "    return pd.read_sql(query_sql, conn)\n",
    "    \n",
    "\n",
    "\n",
    "\n",
    "\n",
    "def get_patch_to(file):\n",
    "    return '../db/'+file+'.db'\n",
    "\n",
    "def get_patch_from(file):\n",
    "    return '../db/'+file+'.db'\n",
    "\n",
    "\n",
    "\n",
    "         "
   ]
  },
  {
   "cell_type": "markdown",
   "metadata": {},
   "source": [
    "# UN"
   ]
  },
  {
   "cell_type": "code",
   "execution_count": 3,
   "metadata": {},
   "outputs": [],
   "source": [
    "file = 'ThreadDB___'\n",
    "\n",
    "# ******************************\n",
    "patchFrom = get_patch_from(file)\n",
    "\n",
    "\n",
    "df = get_df_from_sql(patchFrom,'SELECT * FROM un')\n"
   ]
  },
  {
   "cell_type": "code",
   "execution_count": 4,
   "metadata": {},
   "outputs": [
    {
     "data": {
      "text/plain": [
       "794"
      ]
     },
     "execution_count": 4,
     "metadata": {},
     "output_type": "execute_result"
    }
   ],
   "source": [
    "engine = create_engine('sqlite:///../db/thread.db', echo=False)\n",
    "df.to_sql('uts', con=engine, if_exists='replace', index=False)"
   ]
  }
 ],
 "metadata": {
  "interpreter": {
   "hash": "19f2151269bdb3d2edc3ef33c800258bf52998b015cc4b67ea7565174f3e1992"
  },
  "kernelspec": {
   "display_name": "Python 3.9.12 ('base')",
   "language": "python",
   "name": "python3"
  },
  "language_info": {
   "codemirror_mode": {
    "name": "ipython",
    "version": 3
   },
   "file_extension": ".py",
   "mimetype": "text/x-python",
   "name": "python",
   "nbconvert_exporter": "python",
   "pygments_lexer": "ipython3",
   "version": "3.9.12"
  },
  "orig_nbformat": 4
 },
 "nbformat": 4,
 "nbformat_minor": 2
}
