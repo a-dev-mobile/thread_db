{
 "cells": [
  {
   "cell_type": "code",
   "execution_count": 36,
   "metadata": {},
   "outputs": [],
   "source": [
    "\n",
    "import numpy as np\n",
    "import pandas as pd \n",
    "\n",
    "\n"
   ]
  },
  {
   "cell_type": "code",
   "execution_count": 37,
   "metadata": {},
   "outputs": [],
   "source": [
    "def read_excel(path,sheet_name):\n",
    "    df = pd.read_excel(io = path,sheet_name =sheet_name,  header = 0,index_col=None,)\n",
    "\n",
    "   \n",
    "    # name_column = df.columns.tolist()\n",
    "    # for s in range(len(name_column)):\n",
    "    # # del space start\n",
    "    #      df[name_column[s]] = df[name_column[s]].astype(str).str.lstrip()\n",
    "    # # del space end\n",
    "    #      df[name_column[s]] = df[name_column[s]].astype(str).str.rstrip()\n",
    "    return df\n",
    "\n",
    "def to_sql(path):\n",
    "    df.to_json(path_or_buf =path , orient=\"records\")\n",
    " \n",
    "def to_json(path):\n",
    "    df.to_json(path_or_buf =path , orient=\"records\") \n",
    "    \n",
    "def get_patch_to(file):\n",
    "    return '../json/'+file+'.json'\n",
    "\n",
    "def get_patch_from(file):\n",
    "    return '../excel/'+file+'.xlsx'\n",
    "\n",
    "def change_types(df,columnType):\n",
    "    for k, v in columnType.items(): \n",
    "        df[k] = df[k].astype(v)\n",
    "\n",
    "\n",
    "def to_list_float(df,nameCol)   :\n",
    "    for index, row in df.iterrows():\n",
    "        value = df[nameCol].values[index]\n",
    "        if(str(value).lower() != 'nan'):\n",
    "            df[nameCol].values[index] = [float(x) for x in df[nameCol].values[index].split(',')]\n",
    "         "
   ]
  },
  {
   "cell_type": "markdown",
   "metadata": {},
   "source": [
    "# m_thread"
   ]
  },
  {
   "cell_type": "code",
   "execution_count": 38,
   "metadata": {},
   "outputs": [],
   "source": [
    "file_excel = 'm_thread'\n",
    "sheet_names = [\n",
    "    'm_diam',\n",
    "    'm_profile',\n",
    "    'm_tolerance',\n",
    " \n",
    "               ]\n",
    "\n",
    "\n",
    "\n",
    "\n",
    "# ******************************\n",
    "patchFrom = get_patch_from(file_excel)\n",
    "\n",
    "for name in sheet_names:\n",
    "    patchTo = get_patch_to(name)\n",
    "    df = read_excel(patchFrom, name)\n",
    "\n",
    "    to_json(patchTo)\n",
    "\n"
   ]
  },
  {
   "cell_type": "markdown",
   "metadata": {},
   "source": [
    "# G thread"
   ]
  },
  {
   "cell_type": "code",
   "execution_count": 39,
   "metadata": {},
   "outputs": [],
   "source": [
    "file_excel = 'g_thread'\n",
    "sheet_names = [\n",
    "    'g_thread',\n",
    "\n",
    " \n",
    "               ]\n",
    "\n",
    "\n",
    "\n",
    "\n",
    "# ******************************\n",
    "patchFrom = get_patch_from(file_excel)\n",
    "\n",
    "for name in sheet_names:\n",
    "    patchTo = get_patch_to(name)\n",
    "    df = read_excel(patchFrom, name)\n",
    "\n",
    "    to_json(patchTo)"
   ]
  },
  {
   "cell_type": "code",
   "execution_count": null,
   "metadata": {},
   "outputs": [],
   "source": [
    "file_excel = 'tr_thread'\n",
    "sheet_names = [\n",
    "    'tr_thread',\n",
    "\n",
    " \n",
    "               ]\n",
    "\n",
    "\n",
    "\n",
    "\n",
    "# ******************************\n",
    "patchFrom = get_patch_from(file_excel)\n",
    "\n",
    "for name in sheet_names:\n",
    "    patchTo = get_patch_to(name)\n",
    "    df = read_excel(patchFrom, name)\n",
    "\n",
    "    to_json(patchTo)"
   ]
  },
  {
   "cell_type": "code",
   "execution_count": null,
   "metadata": {},
   "outputs": [],
   "source": [
    "file_excel = 'uts_thread'\n",
    "sheet_names = [\n",
    "    'uts_thread',\n",
    "\n",
    " \n",
    "               ]\n",
    "\n",
    "\n",
    "\n",
    "\n",
    "# ******************************\n",
    "patchFrom = get_patch_from(file_excel)\n",
    "\n",
    "for name in sheet_names:\n",
    "    patchTo = get_patch_to(name)\n",
    "    df = read_excel(patchFrom, name)\n",
    "\n",
    "    to_json(patchTo)"
   ]
  }
 ],
 "metadata": {
  "interpreter": {
   "hash": "19f2151269bdb3d2edc3ef33c800258bf52998b015cc4b67ea7565174f3e1992"
  },
  "kernelspec": {
   "display_name": "Python 3.9.12 ('base')",
   "language": "python",
   "name": "python3"
  },
  "language_info": {
   "codemirror_mode": {
    "name": "ipython",
    "version": 3
   },
   "file_extension": ".py",
   "mimetype": "text/x-python",
   "name": "python",
   "nbconvert_exporter": "python",
   "pygments_lexer": "ipython3",
   "version": "3.9.12"
  },
  "orig_nbformat": 4
 },
 "nbformat": 4,
 "nbformat_minor": 2
}
