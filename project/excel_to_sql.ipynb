{
 "cells": [
  {
   "cell_type": "code",
   "execution_count": 29,
   "metadata": {},
   "outputs": [],
   "source": [
    "from sqlite3 import connect\n",
    "import numpy as np\n",
    "import pandas as pd \n",
    "from sqlalchemy import create_engine\n",
    "\n"
   ]
  },
  {
   "cell_type": "code",
   "execution_count": 30,
   "metadata": {},
   "outputs": [],
   "source": [
    "def read_excel(path,sheet_name):\n",
    "    df = pd.read_excel(io = path,sheet_name =sheet_name,  header = 0,index_col=None,)\n",
    "    # df = df.astype(object).replace(np.nan, '')\n",
    "    return df\n",
    "\n",
    "def to_sql(path):\n",
    "    df.to_json(path_or_buf =path , orient=\"records\")\n",
    " \n",
    "\n",
    "def get_patch_to(file):\n",
    "    return '../db/'+file+'.db'\n",
    "\n",
    "def get_patch_from(file):\n",
    "    return '../excel/'+file+'.xlsx'\n",
    "\n",
    "def change_types(df,columnType):\n",
    "    for k, v in columnType.items(): \n",
    "        df[k] = df[k].astype(v)\n",
    "\n",
    "\n",
    "def to_list_float(df,nameCol)   :\n",
    "    for index, row in df.iterrows():\n",
    "        value = df[nameCol].values[index]\n",
    "        if(str(value).lower() != 'nan'):\n",
    "            df[nameCol].values[index] = [float(x) for x in df[nameCol].values[index].split(',')]\n",
    "         "
   ]
  },
  {
   "cell_type": "markdown",
   "metadata": {},
   "source": [
    "# m_thread"
   ]
  },
  {
   "cell_type": "code",
   "execution_count": 31,
   "metadata": {},
   "outputs": [],
   "source": [
    "file_excel = 'm_thread_data'\n",
    "sheet_names = [\n",
    "    'm_diam_pitch_range_dimension',\n",
    "    'm_profile',\n",
    "    'm_tolerance',\n",
    "    'm_user_selected'\n",
    "               ]\n",
    "sheet_name = sheet_names[3]\n",
    "\n",
    "\n",
    "\n",
    "# ******************************\n",
    "patchFrom = get_patch_from(file_excel)\n",
    "\n",
    "\n",
    "df = read_excel(patchFrom, sheet_name)\n",
    "\n",
    "\n",
    "\n"
   ]
  },
  {
   "cell_type": "code",
   "execution_count": 32,
   "metadata": {},
   "outputs": [
    {
     "data": {
      "text/plain": [
       "3"
      ]
     },
     "execution_count": 32,
     "metadata": {},
     "output_type": "execute_result"
    }
   ],
   "source": [
    "\n",
    "engine = create_engine('sqlite:///../db/thread.db', echo=False)\n",
    "df.to_sql(sheet_name, con=engine, if_exists='replace', index=False)"
   ]
  },
  {
   "cell_type": "code",
   "execution_count": 33,
   "metadata": {},
   "outputs": [],
   "source": [
    "\n",
    "# conn = connect(pathTo)\n",
    "# query ='SELECT pitch FROM m_thread_tolerance'\n",
    "# df_sql = pd.read_sql(query, conn)"
   ]
  }
 ],
 "metadata": {
  "interpreter": {
   "hash": "19f2151269bdb3d2edc3ef33c800258bf52998b015cc4b67ea7565174f3e1992"
  },
  "kernelspec": {
   "display_name": "Python 3.9.12 ('base')",
   "language": "python",
   "name": "python3"
  },
  "language_info": {
   "codemirror_mode": {
    "name": "ipython",
    "version": 3
   },
   "file_extension": ".py",
   "mimetype": "text/x-python",
   "name": "python",
   "nbconvert_exporter": "python",
   "pygments_lexer": "ipython3",
   "version": "3.9.12"
  },
  "orig_nbformat": 4
 },
 "nbformat": 4,
 "nbformat_minor": 2
}
